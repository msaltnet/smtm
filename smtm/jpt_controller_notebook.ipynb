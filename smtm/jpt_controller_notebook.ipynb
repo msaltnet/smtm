{
 "cells": [
  {
   "cell_type": "markdown",
   "id": "progressive-basin",
   "metadata": {},
   "source": [
    "# SMTM JptController"
   ]
  },
  {
   "cell_type": "code",
   "execution_count": null,
   "id": "included-traffic",
   "metadata": {},
   "outputs": [],
   "source": [
    "from IPython.core.display import display, HTML\n",
    "display(HTML(\"<style>div.output_scroll { height: 44em; } div.output_subarea{max-width: 100%} input.raw_input{max-width: 90%}</style>\"))"
   ]
  },
  {
   "cell_type": "code",
   "execution_count": null,
   "id": "worse-compiler",
   "metadata": {},
   "outputs": [],
   "source": [
    "import os\n",
    "os.chdir('../')"
   ]
  },
  {
   "cell_type": "markdown",
   "id": "armed-racing",
   "metadata": {},
   "source": [
    "### 현재 디렉토리가 smtm 프로젝트 root로 설정되었는지 확인\n",
    "분석 결과 파일이 저장될 output 폴더 생성"
   ]
  },
  {
   "cell_type": "code",
   "execution_count": null,
   "id": "nominated-allowance",
   "metadata": {},
   "outputs": [],
   "source": [
    "print(\"현재 디렉토리 \" , os.getcwd())"
   ]
  },
  {
   "cell_type": "code",
   "execution_count": null,
   "id": "integrated-things",
   "metadata": {},
   "outputs": [],
   "source": [
    "if os.path.isdir(\"output\") is False:\n",
    "    print(\"create output folder\")\n",
    "    os.mkdir(\"output\")"
   ]
  },
  {
   "cell_type": "code",
   "execution_count": null,
   "id": "about-marathon",
   "metadata": {},
   "outputs": [],
   "source": [
    "from smtm import JptController"
   ]
  },
  {
   "cell_type": "markdown",
   "id": "classical-filing",
   "metadata": {},
   "source": [
    "strategy: 0은 BnH 전략, 1은 SMA0 전략"
   ]
  },
  {
   "cell_type": "code",
   "execution_count": null,
   "id": "realistic-accommodation",
   "metadata": {},
   "outputs": [],
   "source": [
    "controller = JptController(interval=60, strategy=1)"
   ]
  },
  {
   "cell_type": "code",
   "execution_count": null,
   "id": "controlling-firewall",
   "metadata": {},
   "outputs": [],
   "source": [
    "controller.main()"
   ]
  },
  {
   "cell_type": "code",
   "execution_count": null,
   "id": "likely-agent",
   "metadata": {},
   "outputs": [],
   "source": []
  }
 ],
 "metadata": {
  "kernelspec": {
   "display_name": "Python 3 (ipykernel)",
   "language": "python",
   "name": "python3"
  },
  "language_info": {
   "codemirror_mode": {
    "name": "ipython",
    "version": 3
   },
   "file_extension": ".py",
   "mimetype": "text/x-python",
   "name": "python",
   "nbconvert_exporter": "python",
   "pygments_lexer": "ipython3",
   "version": "3.10.6"
  }
 },
 "nbformat": 4,
 "nbformat_minor": 5
}
